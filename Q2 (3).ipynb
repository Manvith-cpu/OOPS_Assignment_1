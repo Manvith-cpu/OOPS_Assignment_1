{
 "cells": [
  {
   "cell_type": "markdown",
   "id": "dbba1de6-110d-4af5-bb3d-04e0f7103e8c",
   "metadata": {
    "tags": []
   },
   "source": [
    "## Create a child class car from the vehicle class created in Que 1, which will inherit the vehicle class. Create a method named seating_capacity which takes capacity as an argument and returns the name of the vehicle and its seating capacity."
   ]
  },
  {
   "cell_type": "code",
   "execution_count": 1,
   "id": "4970c112-d20d-4edf-8fba-3f98d8675e51",
   "metadata": {},
   "outputs": [],
   "source": [
    "class vehicle:\n",
    "    def __init__(self,name_of_vehicle,max_speed,average_of_vehicle):\n",
    "        self.vehicle=name_of_vehicle\n",
    "        self.speed=max_speed\n",
    "        self.avg=average_of_vehicle\n",
    "    def get_details(self):\n",
    "        return self.vehicle,self.speed,self.avg"
   ]
  },
  {
   "cell_type": "code",
   "execution_count": 2,
   "id": "f3a5ca29-7824-4713-990e-aace86512547",
   "metadata": {},
   "outputs": [],
   "source": [
    "class car(vehicle):\n",
    "    def seating_capacity(self,seating_capacity):\n",
    "        self.seating_capacity=seating_capacity\n",
    "    def get_car_details(self):\n",
    "        return self.vehicle,self.seating_capacity"
   ]
  },
  {
   "cell_type": "code",
   "execution_count": 7,
   "id": "af6dc706-633d-45c2-a097-3d0035eca3f8",
   "metadata": {},
   "outputs": [],
   "source": [
    "c=car(\"Polo\",145,80)"
   ]
  },
  {
   "cell_type": "code",
   "execution_count": 8,
   "id": "6c61cae0-d6c2-410d-b3e4-9ca9671ada7e",
   "metadata": {},
   "outputs": [],
   "source": [
    "c.seating_capacity(4)"
   ]
  },
  {
   "cell_type": "code",
   "execution_count": 9,
   "id": "639a5518-0414-45f5-8b5c-c1574180e63b",
   "metadata": {},
   "outputs": [
    {
     "data": {
      "text/plain": [
       "('Polo', 4)"
      ]
     },
     "execution_count": 9,
     "metadata": {},
     "output_type": "execute_result"
    }
   ],
   "source": [
    "c.get_car_details()"
   ]
  },
  {
   "cell_type": "code",
   "execution_count": 10,
   "id": "92aa3efc-77f8-48a5-974d-eb4a7d4439d9",
   "metadata": {},
   "outputs": [
    {
     "data": {
      "text/plain": [
       "('Polo', 145, 80)"
      ]
     },
     "execution_count": 10,
     "metadata": {},
     "output_type": "execute_result"
    }
   ],
   "source": [
    "c.get_details()"
   ]
  }
 ],
 "metadata": {
  "kernelspec": {
   "display_name": "Python 3 (ipykernel)",
   "language": "python",
   "name": "python3"
  },
  "language_info": {
   "codemirror_mode": {
    "name": "ipython",
    "version": 3
   },
   "file_extension": ".py",
   "mimetype": "text/x-python",
   "name": "python",
   "nbconvert_exporter": "python",
   "pygments_lexer": "ipython3",
   "version": "3.10.8"
  }
 },
 "nbformat": 4,
 "nbformat_minor": 5
}
