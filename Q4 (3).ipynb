{
 "cells": [
  {
   "cell_type": "markdown",
   "id": "3576b0a9-2b36-4324-b54f-1d4a3223b127",
   "metadata": {},
   "source": [
    "## What are getter and setter in python? Create a class and create a getter and a setter method in this class."
   ]
  },
  {
   "cell_type": "code",
   "execution_count": 1,
   "id": "376a2546-b131-4421-bfc4-873cf822939b",
   "metadata": {},
   "outputs": [],
   "source": [
    "# Getter: A method that allows you to access an attribute in a given class. \n",
    "# Setter: A method that allows you to set or mutate the value of an attribute in a class."
   ]
  },
  {
   "cell_type": "code",
   "execution_count": 2,
   "id": "a26e635f-308a-4e75-8fe4-38bbe585d2cd",
   "metadata": {},
   "outputs": [],
   "source": [
    "class test:\n",
    "\tdef __init__(self, age=0):\n",
    "\t\tself._age = age\n",
    "\t\n",
    "\t# getter method\n",
    "\tdef get_age(self):\n",
    "\t\treturn self._age\n",
    "\t\n",
    "\t# setter method\n",
    "\tdef set_age(self, x):\n",
    "\t\tself._age = x"
   ]
  },
  {
   "cell_type": "code",
   "execution_count": 5,
   "id": "bfab78ae-d2c3-4e5d-9ad6-a40f653c4566",
   "metadata": {},
   "outputs": [],
   "source": [
    "t=test(19)"
   ]
  },
  {
   "cell_type": "code",
   "execution_count": 6,
   "id": "f8b37f0b-9ce5-4edc-8c2f-94021bfc1d78",
   "metadata": {},
   "outputs": [
    {
     "data": {
      "text/plain": [
       "19"
      ]
     },
     "execution_count": 6,
     "metadata": {},
     "output_type": "execute_result"
    }
   ],
   "source": [
    "t.get_age()"
   ]
  },
  {
   "cell_type": "code",
   "execution_count": 7,
   "id": "384c89e6-6b8a-4839-9a79-73a7cc09c052",
   "metadata": {},
   "outputs": [],
   "source": [
    "t.set_age(20)"
   ]
  },
  {
   "cell_type": "code",
   "execution_count": 8,
   "id": "3eaa4d0c-8847-4816-be8e-190e8b15b979",
   "metadata": {},
   "outputs": [
    {
     "data": {
      "text/plain": [
       "20"
      ]
     },
     "execution_count": 8,
     "metadata": {},
     "output_type": "execute_result"
    }
   ],
   "source": [
    "t.get_age()"
   ]
  }
 ],
 "metadata": {
  "kernelspec": {
   "display_name": "Python 3 (ipykernel)",
   "language": "python",
   "name": "python3"
  },
  "language_info": {
   "codemirror_mode": {
    "name": "ipython",
    "version": 3
   },
   "file_extension": ".py",
   "mimetype": "text/x-python",
   "name": "python",
   "nbconvert_exporter": "python",
   "pygments_lexer": "ipython3",
   "version": "3.10.8"
  }
 },
 "nbformat": 4,
 "nbformat_minor": 5
}
