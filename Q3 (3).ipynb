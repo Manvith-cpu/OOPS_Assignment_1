{
 "cells": [
  {
   "cell_type": "markdown",
   "id": "42da3830-2d26-4245-b7fc-97a3afdcf199",
   "metadata": {},
   "source": [
    "## What is multiple inheritance? Write a python code to demonstrate multiple inheritance."
   ]
  },
  {
   "cell_type": "code",
   "execution_count": 1,
   "id": "91415c8b-1261-48fb-accd-82b1b4c5613a",
   "metadata": {},
   "outputs": [],
   "source": [
    "# Multiple Inheritence is inheritence in which a class can inherit from multiple classes"
   ]
  },
  {
   "cell_type": "code",
   "execution_count": 2,
   "id": "c194220a-c9b2-4e5d-88c8-af5e338d113d",
   "metadata": {},
   "outputs": [],
   "source": [
    "class class1:\n",
    "    def test_class1(self):\n",
    "        return \"This is class1\""
   ]
  },
  {
   "cell_type": "code",
   "execution_count": 3,
   "id": "13999b1d-6cd0-4613-a596-4fb45088b751",
   "metadata": {},
   "outputs": [],
   "source": [
    "class class2:\n",
    "    def test_class2(self):\n",
    "        return \"This is class2\""
   ]
  },
  {
   "cell_type": "code",
   "execution_count": 4,
   "id": "97b58199-3e53-4e4d-ad5a-0a70cd33aadc",
   "metadata": {},
   "outputs": [],
   "source": [
    "class class3(class1,class2):\n",
    "    pass"
   ]
  },
  {
   "cell_type": "code",
   "execution_count": 5,
   "id": "faf4d9d0-d98b-43d3-93ef-5d0207ebe108",
   "metadata": {},
   "outputs": [],
   "source": [
    "c=class3()"
   ]
  },
  {
   "cell_type": "code",
   "execution_count": 6,
   "id": "1620caab-1029-4873-a3f4-67bc923a4bab",
   "metadata": {},
   "outputs": [
    {
     "data": {
      "text/plain": [
       "'This is class1'"
      ]
     },
     "execution_count": 6,
     "metadata": {},
     "output_type": "execute_result"
    }
   ],
   "source": [
    "c.test_class1()"
   ]
  },
  {
   "cell_type": "code",
   "execution_count": 7,
   "id": "cf815afc-3c75-45bf-b714-2b2a5d2d06c4",
   "metadata": {},
   "outputs": [
    {
     "data": {
      "text/plain": [
       "'This is class2'"
      ]
     },
     "execution_count": 7,
     "metadata": {},
     "output_type": "execute_result"
    }
   ],
   "source": [
    "c.test_class2()"
   ]
  }
 ],
 "metadata": {
  "kernelspec": {
   "display_name": "Python 3 (ipykernel)",
   "language": "python",
   "name": "python3"
  },
  "language_info": {
   "codemirror_mode": {
    "name": "ipython",
    "version": 3
   },
   "file_extension": ".py",
   "mimetype": "text/x-python",
   "name": "python",
   "nbconvert_exporter": "python",
   "pygments_lexer": "ipython3",
   "version": "3.10.8"
  }
 },
 "nbformat": 4,
 "nbformat_minor": 5
}
