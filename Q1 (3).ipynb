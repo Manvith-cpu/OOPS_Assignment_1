{
 "cells": [
  {
   "cell_type": "markdown",
   "id": "9f4657ac-2915-469d-b818-83c8aa096cd3",
   "metadata": {},
   "source": [
    "## Q1. Create a vehicle class with an init method having instance variables as name_of_vehicle, max_speed and average_of_vehicle."
   ]
  },
  {
   "cell_type": "code",
   "execution_count": 1,
   "id": "82369ec1-2352-4a0b-a531-568649e493a3",
   "metadata": {},
   "outputs": [],
   "source": [
    "class vehicle:\n",
    "    def __init__(self,name_of_vehicle,max_speed,average_of_vehicle):\n",
    "        self.vehicle=name_of_vehicle\n",
    "        self.speed=max_speed\n",
    "        self.avg=average_of_vehicle\n",
    "    def get_details(self):\n",
    "        return self.vehicle,self.speed,self.avg"
   ]
  },
  {
   "cell_type": "code",
   "execution_count": 2,
   "id": "ad191989-1a24-4e15-a468-cd23d4191964",
   "metadata": {},
   "outputs": [],
   "source": [
    "v=vehicle(\"Exter\",160,100)"
   ]
  },
  {
   "cell_type": "code",
   "execution_count": 4,
   "id": "e74be546-f614-4618-b047-cfc7fdd8273d",
   "metadata": {},
   "outputs": [
    {
     "data": {
      "text/plain": [
       "('Exter', 160, 100)"
      ]
     },
     "execution_count": 4,
     "metadata": {},
     "output_type": "execute_result"
    }
   ],
   "source": [
    "v.get_details()"
   ]
  }
 ],
 "metadata": {
  "kernelspec": {
   "display_name": "Python 3 (ipykernel)",
   "language": "python",
   "name": "python3"
  },
  "language_info": {
   "codemirror_mode": {
    "name": "ipython",
    "version": 3
   },
   "file_extension": ".py",
   "mimetype": "text/x-python",
   "name": "python",
   "nbconvert_exporter": "python",
   "pygments_lexer": "ipython3",
   "version": "3.10.8"
  }
 },
 "nbformat": 4,
 "nbformat_minor": 5
}
