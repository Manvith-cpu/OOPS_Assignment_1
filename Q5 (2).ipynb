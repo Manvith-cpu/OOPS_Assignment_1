{
 "cells": [
  {
   "cell_type": "markdown",
   "id": "ba1650b2-5b6d-49fe-a80e-8a297bb0dbfe",
   "metadata": {},
   "source": [
    "## What is method overriding in python? Write a python code to demonstrate method overriding."
   ]
  },
  {
   "cell_type": "code",
   "execution_count": 1,
   "id": "32a31218-37b2-4e6e-ac21-f34f73bce797",
   "metadata": {},
   "outputs": [],
   "source": [
    "# Method overriding is a feature of object-oriented programming languages where the subclass or child class\n",
    "# can provide the program with specific characteristics or a specific implementation process of data provided \n",
    "# that are already defined in the parent class or superclass."
   ]
  },
  {
   "cell_type": "code",
   "execution_count": 2,
   "id": "d77eb5ac-1246-4f4d-8253-cc111b17e28e",
   "metadata": {},
   "outputs": [],
   "source": [
    "class Parent():\n",
    "\t\n",
    "\tdef __init__(self):\n",
    "\t\tself.value = \"Inside Parent\"\n",
    "\t\t\n",
    "\tdef show(self):\n",
    "\t\tprint(self.value)"
   ]
  },
  {
   "cell_type": "code",
   "execution_count": 3,
   "id": "40827471-a176-46ef-ad52-a959a752813e",
   "metadata": {},
   "outputs": [],
   "source": [
    "class Child(Parent):\n",
    "\n",
    "\tdef __init__(self):\n",
    "\t\tself.value = \"Inside Child\"\n",
    "\t\t\n",
    "\tdef show(self):\n",
    "\t\tprint(self.value)"
   ]
  },
  {
   "cell_type": "code",
   "execution_count": 4,
   "id": "649c6c38-c384-4f37-806f-8371206ae569",
   "metadata": {},
   "outputs": [
    {
     "name": "stdout",
     "output_type": "stream",
     "text": [
      "Inside Parent\n"
     ]
    }
   ],
   "source": [
    "obj1 = Parent()\n",
    "\n",
    "obj1.show()"
   ]
  },
  {
   "cell_type": "code",
   "execution_count": 5,
   "id": "4a134b1d-59cd-40b1-85a4-121ef3344e35",
   "metadata": {},
   "outputs": [
    {
     "name": "stdout",
     "output_type": "stream",
     "text": [
      "Inside Child\n"
     ]
    }
   ],
   "source": [
    "obj2 = Child()\n",
    "\n",
    "obj2.show()"
   ]
  }
 ],
 "metadata": {
  "kernelspec": {
   "display_name": "Python 3 (ipykernel)",
   "language": "python",
   "name": "python3"
  },
  "language_info": {
   "codemirror_mode": {
    "name": "ipython",
    "version": 3
   },
   "file_extension": ".py",
   "mimetype": "text/x-python",
   "name": "python",
   "nbconvert_exporter": "python",
   "pygments_lexer": "ipython3",
   "version": "3.10.8"
  }
 },
 "nbformat": 4,
 "nbformat_minor": 5
}
